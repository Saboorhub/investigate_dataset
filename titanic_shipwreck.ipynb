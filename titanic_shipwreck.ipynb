{
 "cells": [
  {
   "cell_type": "markdown",
   "metadata": {},
   "source": [
    "# FINAL PROJECT - The Titanic shipwreck\n",
    "\n",
    "##### In this project, I will attempt to analyze the Titanic Shipwreck data. I will do using Data Analytics process which is detailed below: \n",
    "\n",
    "1. **Posing questions:** In this phase, questions are raised or posed about the data that is going to be explored or\n",
    "     investigated. You can also first explore the data a little bit and then pose your questions.\n",
    "\n",
    "2. **Data Wrangling:** In this phase, data is acquired and then cleaned for easy analysis. For instance, if the data is not in csv format, we load it in csv format and then analyze it.  \n",
    "\n",
    "3. **Exploration:** In this phase, data analysts explore the data as the name suggests and try to look for patterns that will help us solve our questions...  \n",
    "\n",
    "4. **Drawing conclusions:** In this phase, DAs (data analysts) draw conclusions based on their data. \n",
    "\n",
    "5. **Communication:** In this phase, the findings are communicated via an email, a blogpost, a power point presentation, a book, etc."
   ]
  },
  {
   "cell_type": "markdown",
   "metadata": {},
   "source": [
    "### Onto the first step:-"
   ]
  },
  {
   "cell_type": "markdown",
   "metadata": {},
   "source": [
    "## POSING QUESTIONS \n",
    "\n",
    "**Here are the questions that I have prepared:** \n",
    "\n",
    "1. What is the distribution of male and female data in the sample? Was there any correlation between gender and the survival rate? if so, which gender had more survival rate, why possibly? Were there any empty values fields?  \n",
    "    \n",
    "2. What is the distribution of male and female data in the sample? Was there any correlation between gender and the survival rate? if so, which gender had more survival rate, why possibly? Were there any empty values fields?\n",
    "\n",
    "3. What are the percentages of passengers in each class? Did the class of the passengers identified as Pclass have any impact on the survival? If so, which ticket class had the best survival rate? \n",
    "    \n",
    "4. Did more or fewer people travel with their families? What was the correlation between a passenger having a family member and the survival rate for such groups? "
   ]
  },
  {
   "cell_type": "markdown",
   "metadata": {},
   "source": [
    "### Onto the second step:-"
   ]
  },
  {
   "cell_type": "markdown",
   "metadata": {},
   "source": [
    "## DATA WRANGLING\n",
    "\n",
    "** Let us try to take a look at the data and convert it if we need to.**"
   ]
  },
  {
   "cell_type": "code",
   "execution_count": 4,
   "metadata": {},
   "outputs": [],
   "source": [
    "#I am going to store the value of the filepath in the following variable. \n",
    "titanic_file = \"https://github.com/Saboorhub/investigate_dataset\"\n",
    "\n",
    "#I am going to import the following modules so I can use them later in the data wrangling and visualization stages.\n",
    "import pandas as pd\n",
    "import numpy as np\n",
    "import matplotlib.pyplot as plt\n",
    "\n",
    "#I am going to use the following pandas function to read the file and store the value in the titanic_df variable.\n",
    "titanic_df = pd.read_csv(titanic_file)\n"
   ]
  },
  {
   "cell_type": "markdown",
   "metadata": {},
   "source": [
    "#### Titanic Data Description: \n",
    "\n",
    "Let us learn a little bit about our data. The following features describe the titanic data: \n",
    "\n",
    "1. **_Passengerid_:** This is the passenger id starting from 1 to 891. \n",
    "\n",
    "2. **_Survived_:** The value is numerical of 0 or 1.1 indicating the passenger survived and 0 otherwise.\n",
    "\n",
    "3. **_Pclass_:** Also numerical values of 1, upper deck; 2, middle deck; and 3, bottom deck. \n",
    "\n",
    "4. **_Name_:** This column lists the name of passenger. \n",
    "\n",
    "5. **_Sex_:** This column lists the gender of the passenger. \n",
    "\n",
    "6. **_Age_:** This column shows the age of passenger in years. \n",
    "\n",
    "7. **_SibSp_:** This column shows the number of sibling/siblings or a spouse of the passenger if any.  \n",
    "\n",
    "8. **_Parch_:** This column shows the number of a parent/parents or child/children of the passenger if any. \n",
    "\n",
    "9. **_Ticket_:** This shows the ticket number of the ticket issued. \n",
    "\n",
    "10. **_Fare_:** This shows the fare the ticket is bought at. \n",
    "\n",
    "11. **_Cabin_:** This shows the cabin number. \n",
    "\n",
    "12. **_Embarked_:** This shows the port the passenger embarked at. C = Cherbourg, Q = Queenstown, S = Southampton\n",
    "\n",
    "Credit: https://www.kaggle.com/c/titanic/data"
   ]
  },
  {
   "cell_type": "markdown",
   "metadata": {},
   "source": [
    "**Here are the first few records of the titanic data.** "
   ]
  },
  {
   "cell_type": "code",
   "execution_count": 150,
   "metadata": {},
   "outputs": [
    {
     "data": {
      "text/html": [
       "<div>\n",
       "<table border=\"1\" class=\"dataframe\">\n",
       "  <thead>\n",
       "    <tr style=\"text-align: right;\">\n",
       "      <th></th>\n",
       "      <th>PassengerId</th>\n",
       "      <th>Survived</th>\n",
       "      <th>Pclass</th>\n",
       "      <th>Name</th>\n",
       "      <th>Sex</th>\n",
       "      <th>Age</th>\n",
       "      <th>SibSp</th>\n",
       "      <th>Parch</th>\n",
       "      <th>Ticket</th>\n",
       "      <th>Fare</th>\n",
       "      <th>Cabin</th>\n",
       "      <th>Embarked</th>\n",
       "    </tr>\n",
       "  </thead>\n",
       "  <tbody>\n",
       "    <tr>\n",
       "      <th>0</th>\n",
       "      <td>1</td>\n",
       "      <td>0</td>\n",
       "      <td>3</td>\n",
       "      <td>Braund, Mr. Owen Harris</td>\n",
       "      <td>male</td>\n",
       "      <td>22.0</td>\n",
       "      <td>1</td>\n",
       "      <td>0</td>\n",
       "      <td>A/5 21171</td>\n",
       "      <td>7.2500</td>\n",
       "      <td>NaN</td>\n",
       "      <td>S</td>\n",
       "    </tr>\n",
       "    <tr>\n",
       "      <th>1</th>\n",
       "      <td>2</td>\n",
       "      <td>1</td>\n",
       "      <td>1</td>\n",
       "      <td>Cumings, Mrs. John Bradley (Florence Briggs Th...</td>\n",
       "      <td>female</td>\n",
       "      <td>38.0</td>\n",
       "      <td>1</td>\n",
       "      <td>0</td>\n",
       "      <td>PC 17599</td>\n",
       "      <td>71.2833</td>\n",
       "      <td>C85</td>\n",
       "      <td>C</td>\n",
       "    </tr>\n",
       "    <tr>\n",
       "      <th>2</th>\n",
       "      <td>3</td>\n",
       "      <td>1</td>\n",
       "      <td>3</td>\n",
       "      <td>Heikkinen, Miss. Laina</td>\n",
       "      <td>female</td>\n",
       "      <td>26.0</td>\n",
       "      <td>0</td>\n",
       "      <td>0</td>\n",
       "      <td>STON/O2. 3101282</td>\n",
       "      <td>7.9250</td>\n",
       "      <td>NaN</td>\n",
       "      <td>S</td>\n",
       "    </tr>\n",
       "    <tr>\n",
       "      <th>3</th>\n",
       "      <td>4</td>\n",
       "      <td>1</td>\n",
       "      <td>1</td>\n",
       "      <td>Futrelle, Mrs. Jacques Heath (Lily May Peel)</td>\n",
       "      <td>female</td>\n",
       "      <td>35.0</td>\n",
       "      <td>1</td>\n",
       "      <td>0</td>\n",
       "      <td>113803</td>\n",
       "      <td>53.1000</td>\n",
       "      <td>C123</td>\n",
       "      <td>S</td>\n",
       "    </tr>\n",
       "    <tr>\n",
       "      <th>4</th>\n",
       "      <td>5</td>\n",
       "      <td>0</td>\n",
       "      <td>3</td>\n",
       "      <td>Allen, Mr. William Henry</td>\n",
       "      <td>male</td>\n",
       "      <td>35.0</td>\n",
       "      <td>0</td>\n",
       "      <td>0</td>\n",
       "      <td>373450</td>\n",
       "      <td>8.0500</td>\n",
       "      <td>NaN</td>\n",
       "      <td>S</td>\n",
       "    </tr>\n",
       "  </tbody>\n",
       "</table>\n",
       "</div>"
      ],
      "text/plain": [
       "   PassengerId  Survived  Pclass  \\\n",
       "0            1         0       3   \n",
       "1            2         1       1   \n",
       "2            3         1       3   \n",
       "3            4         1       1   \n",
       "4            5         0       3   \n",
       "\n",
       "                                                Name     Sex   Age  SibSp  \\\n",
       "0                            Braund, Mr. Owen Harris    male  22.0      1   \n",
       "1  Cumings, Mrs. John Bradley (Florence Briggs Th...  female  38.0      1   \n",
       "2                             Heikkinen, Miss. Laina  female  26.0      0   \n",
       "3       Futrelle, Mrs. Jacques Heath (Lily May Peel)  female  35.0      1   \n",
       "4                           Allen, Mr. William Henry    male  35.0      0   \n",
       "\n",
       "   Parch            Ticket     Fare Cabin Embarked  \n",
       "0      0         A/5 21171   7.2500   NaN        S  \n",
       "1      0          PC 17599  71.2833   C85        C  \n",
       "2      0  STON/O2. 3101282   7.9250   NaN        S  \n",
       "3      0            113803  53.1000  C123        S  \n",
       "4      0            373450   8.0500   NaN        S  "
      ]
     },
     "execution_count": 150,
     "metadata": {},
     "output_type": "execute_result"
    }
   ],
   "source": [
    "#here are the top few records from the titanic_df\n",
    "titanic_df.head()"
   ]
  },
  {
   "cell_type": "code",
   "execution_count": 151,
   "metadata": {},
   "outputs": [
    {
     "data": {
      "text/html": [
       "<div>\n",
       "<table border=\"1\" class=\"dataframe\">\n",
       "  <thead>\n",
       "    <tr style=\"text-align: right;\">\n",
       "      <th></th>\n",
       "      <th>PassengerId</th>\n",
       "      <th>Survived</th>\n",
       "      <th>Pclass</th>\n",
       "      <th>Age</th>\n",
       "      <th>SibSp</th>\n",
       "      <th>Parch</th>\n",
       "      <th>Fare</th>\n",
       "    </tr>\n",
       "  </thead>\n",
       "  <tbody>\n",
       "    <tr>\n",
       "      <th>count</th>\n",
       "      <td>891.000000</td>\n",
       "      <td>891.000000</td>\n",
       "      <td>891.000000</td>\n",
       "      <td>714.000000</td>\n",
       "      <td>891.000000</td>\n",
       "      <td>891.000000</td>\n",
       "      <td>891.000000</td>\n",
       "    </tr>\n",
       "    <tr>\n",
       "      <th>mean</th>\n",
       "      <td>446.000000</td>\n",
       "      <td>0.383838</td>\n",
       "      <td>2.308642</td>\n",
       "      <td>29.699118</td>\n",
       "      <td>0.523008</td>\n",
       "      <td>0.381594</td>\n",
       "      <td>32.204208</td>\n",
       "    </tr>\n",
       "    <tr>\n",
       "      <th>std</th>\n",
       "      <td>257.353842</td>\n",
       "      <td>0.486592</td>\n",
       "      <td>0.836071</td>\n",
       "      <td>14.526497</td>\n",
       "      <td>1.102743</td>\n",
       "      <td>0.806057</td>\n",
       "      <td>49.693429</td>\n",
       "    </tr>\n",
       "    <tr>\n",
       "      <th>min</th>\n",
       "      <td>1.000000</td>\n",
       "      <td>0.000000</td>\n",
       "      <td>1.000000</td>\n",
       "      <td>0.420000</td>\n",
       "      <td>0.000000</td>\n",
       "      <td>0.000000</td>\n",
       "      <td>0.000000</td>\n",
       "    </tr>\n",
       "    <tr>\n",
       "      <th>25%</th>\n",
       "      <td>223.500000</td>\n",
       "      <td>0.000000</td>\n",
       "      <td>2.000000</td>\n",
       "      <td>20.125000</td>\n",
       "      <td>0.000000</td>\n",
       "      <td>0.000000</td>\n",
       "      <td>7.910400</td>\n",
       "    </tr>\n",
       "    <tr>\n",
       "      <th>50%</th>\n",
       "      <td>446.000000</td>\n",
       "      <td>0.000000</td>\n",
       "      <td>3.000000</td>\n",
       "      <td>28.000000</td>\n",
       "      <td>0.000000</td>\n",
       "      <td>0.000000</td>\n",
       "      <td>14.454200</td>\n",
       "    </tr>\n",
       "    <tr>\n",
       "      <th>75%</th>\n",
       "      <td>668.500000</td>\n",
       "      <td>1.000000</td>\n",
       "      <td>3.000000</td>\n",
       "      <td>38.000000</td>\n",
       "      <td>1.000000</td>\n",
       "      <td>0.000000</td>\n",
       "      <td>31.000000</td>\n",
       "    </tr>\n",
       "    <tr>\n",
       "      <th>max</th>\n",
       "      <td>891.000000</td>\n",
       "      <td>1.000000</td>\n",
       "      <td>3.000000</td>\n",
       "      <td>80.000000</td>\n",
       "      <td>8.000000</td>\n",
       "      <td>6.000000</td>\n",
       "      <td>512.329200</td>\n",
       "    </tr>\n",
       "  </tbody>\n",
       "</table>\n",
       "</div>"
      ],
      "text/plain": [
       "       PassengerId    Survived      Pclass         Age       SibSp  \\\n",
       "count   891.000000  891.000000  891.000000  714.000000  891.000000   \n",
       "mean    446.000000    0.383838    2.308642   29.699118    0.523008   \n",
       "std     257.353842    0.486592    0.836071   14.526497    1.102743   \n",
       "min       1.000000    0.000000    1.000000    0.420000    0.000000   \n",
       "25%     223.500000    0.000000    2.000000   20.125000    0.000000   \n",
       "50%     446.000000    0.000000    3.000000   28.000000    0.000000   \n",
       "75%     668.500000    1.000000    3.000000   38.000000    1.000000   \n",
       "max     891.000000    1.000000    3.000000   80.000000    8.000000   \n",
       "\n",
       "            Parch        Fare  \n",
       "count  891.000000  891.000000  \n",
       "mean     0.381594   32.204208  \n",
       "std      0.806057   49.693429  \n",
       "min      0.000000    0.000000  \n",
       "25%      0.000000    7.910400  \n",
       "50%      0.000000   14.454200  \n",
       "75%      0.000000   31.000000  \n",
       "max      6.000000  512.329200  "
      ]
     },
     "execution_count": 151,
     "metadata": {},
     "output_type": "execute_result"
    }
   ],
   "source": [
    "#Here are some stats about the data. \n",
    "\n",
    "titanic_df.describe()"
   ]
  },
  {
   "cell_type": "markdown",
   "metadata": {},
   "source": [
    "**Before taking a look at the number of survivors. Let us make sure the survived column does not have any null values. **"
   ]
  },
  {
   "cell_type": "code",
   "execution_count": 152,
   "metadata": {},
   "outputs": [
    {
     "data": {
      "text/plain": [
       "0"
      ]
     },
     "execution_count": 152,
     "metadata": {},
     "output_type": "execute_result"
    }
   ],
   "source": [
    "def null_values(data, column):\n",
    "    \"\"\"\n",
    "    This function returns an integer representing count of empty fields in a column specified.\n",
    "    \"\"\"\n",
    "    return len(data[data[column].isnull() == True])\n",
    "    \n",
    "null_values(titanic_df, 'Survived') #It seems like it is 0. So we can go ahead. "
   ]
  },
  {
   "cell_type": "code",
   "execution_count": 153,
   "metadata": {},
   "outputs": [],
   "source": [
    "#I am going to create a function using lambda built-in function and store it in select_df variable. This function\n",
    "#will return a df with whatever inputs given. \n",
    "\n",
    "select_df = lambda x, y, z: x[x[y] == z]\n",
    "survivors_df = select_df(titanic_df, 'Survived', 1)\n",
    "survivors_count = len(survivors_df)\n"
   ]
  },
  {
   "cell_type": "code",
   "execution_count": 154,
   "metadata": {},
   "outputs": [
    {
     "data": {
      "text/plain": [
       "0"
      ]
     },
     "execution_count": 154,
     "metadata": {},
     "output_type": "execute_result"
    }
   ],
   "source": [
    "#let us first of all see if there are any null values. \n",
    "\n",
    "null_values(titanic_df, 'Sex')"
   ]
  },
  {
   "cell_type": "code",
   "execution_count": 155,
   "metadata": {},
   "outputs": [],
   "source": [
    "#Since there are no empty column values for gender, we can move ahead with the unchanged data. \n",
    "#Let us find out how many males and how many females are there in the sample. \n",
    "\n",
    "male_count = len(select_df(titanic_df, 'Sex', 'male'))\n",
    "female_count = len(select_df(titanic_df, 'Sex', 'female'))\n",
    "\n",
    "male_survivors_count = len(select_df(survivors_df, 'Sex', 'male'))\n",
    "female_survivors_count = len(select_df(survivors_df, 'Sex', 'female'))"
   ]
  },
  {
   "cell_type": "markdown",
   "metadata": {},
   "source": [
    "**Assumptions:** \n",
    "\n",
    "* I am going to divide the age_related data into two categories for the sake of simplicity. \n",
    "* Those who are 18 years old or older will be considered as adults, and those less than 18 years of age will be considered children. \n",
    "* But I will also provide some interesting numbers concerning the ages of those on board the titanic. \n"
   ]
  },
  {
   "cell_type": "code",
   "execution_count": 156,
   "metadata": {},
   "outputs": [],
   "source": [
    "#Let us, first of all, take a look at the age field if there are no empty fields. So we can call the has_empty_fields \n",
    "#function\n",
    "\n",
    "null_values(titanic_df, 'Age')\n",
    "#it seems like there are 177 records whose ages are unknown so we are going to remove these from the sample\n",
    "#and create another sample without these records. \n",
    "\n",
    "age_inclusive_df = titanic_df[titanic_df['Age'].notnull()]\n",
    "ageless_count = len(titanic_df) - len(age_inclusive_df)\n",
    "\n",
    "children_df = age_inclusive_df[age_inclusive_df['Age'] < 18]\n",
    "child_count = len(children_df)\n",
    "\n",
    "adults_df = age_inclusive_df[age_inclusive_df['Age'] >= 18]\n",
    "adult_count = len(adults_df)\n",
    "\n",
    "child_survivors_count = len(select_df(children_df, 'Survived', 1))\n",
    "adult_survivors_count = len(select_df(adults_df, 'Survived', 1))\n",
    "\n",
    "youngest_survivor = survivors_df['Age'].min() * 12\n",
    "oldest_survivor = survivors_df['Age'].max()"
   ]
  },
  {
   "cell_type": "markdown",
   "metadata": {},
   "source": [
    "**Titanic Data stats by Pclass**\n",
    "\n",
    "*There are three classes as defined in Pclass column of the titanic data.*\n",
    "\n",
    "**Assumptions:**\n",
    "\n",
    "* I will call the class with Pclass value of 1 first_class\n",
    "* I will call the class with Pclass value of 2 second_class\n",
    "* I will call the class with Pclass value of 3 third_class\n",
    "\n",
    "First of all, let us see if the Pclass column has any empty or null values. After calling the empty_fields_count function for 'Pclass' column, we found out that there are not empty values. "
   ]
  },
  {
   "cell_type": "code",
   "execution_count": 157,
   "metadata": {},
   "outputs": [
    {
     "data": {
      "text/plain": [
       "0"
      ]
     },
     "execution_count": 157,
     "metadata": {},
     "output_type": "execute_result"
    }
   ],
   "source": [
    "null_values(titanic_df, 'Pclass') #it seems like the column does not have any null values. "
   ]
  },
  {
   "cell_type": "code",
   "execution_count": 158,
   "metadata": {},
   "outputs": [],
   "source": [
    "#the following variables store the values of titanic data distribution by ticket class. \n",
    "\n",
    "#the following are first class passengers and survivors numbers. \n",
    "first_class_count = len(select_df(titanic_df, 'Pclass', 1))\n",
    "first_class_survivors = len(select_df(survivors_df, 'Pclass', 1))\n",
    "\n",
    "#the following are second class passengers and survivors numbers. \n",
    "second_class_count = len(select_df(titanic_df, 'Pclass', 2))\n",
    "second_class_survivors = len(select_df(survivors_df, 'Pclass', 2))\n",
    "\n",
    "#the following are third class passengers and survivors numbers. \n",
    "third_class_count = len(select_df(titanic_df, 'Pclass', 3))\n",
    "third_class_survivors = len(select_df(survivors_df, 'Pclass', 3))\n"
   ]
  },
  {
   "cell_type": "code",
   "execution_count": 159,
   "metadata": {},
   "outputs": [
    {
     "name": "stdout",
     "output_type": "stream",
     "text": [
      "0\n",
      "0\n"
     ]
    }
   ],
   "source": [
    "#let us see if there are any empty cells in the Parch and SibSp columns. \n",
    "\n",
    "print (null_values(titanic_df, 'Parch'))\n",
    "print (null_values(titanic_df, 'SibSp'))"
   ]
  },
  {
   "cell_type": "code",
   "execution_count": 160,
   "metadata": {},
   "outputs": [],
   "source": [
    "#since there are no null values, let us go ahead and use come up family_traveling and lonely_traveling data using\n",
    "#vectorized operations as well as the select_df function. \n",
    "\n",
    "lonely_travelers_df = titanic_df[(titanic_df['SibSp'] == 0) & (titanic_df['Parch'] == 0)]\n",
    "lonely_travelers_count = len(lonely_travelers_df)\n",
    "lonely_traveling_survivors_count = len(select_df(lonely_travelers_df, 'Survived', 1))\n",
    "family_travelers_df = titanic_df[(titanic_df['SibSp'] > 0) | (titanic_df['Parch'] > 0)]\n",
    "family_travelers_count = len(family_travelers_df)\n",
    "family_traveling_survivors_count = len(select_df(family_travelers_df, 'Survived', 1))\n"
   ]
  },
  {
   "cell_type": "markdown",
   "metadata": {},
   "source": [
    "### Onto the third step:-\n"
   ]
  },
  {
   "cell_type": "markdown",
   "metadata": {},
   "source": [
    "## DATA EXPLORATION \n",
    "\n",
    "In total there were 891 in the sample. I will break down the sample size as well as the \n",
    "survivors data by gender, age, and ticket class. \n",
    "\n",
    "   **1. Distribution of data by gender:** \n",
    "   \n",
    "   Change ***False*** to ***True*** and run the following Python code to see stats related to gender distribution: \n",
    " "
   ]
  },
  {
   "cell_type": "code",
   "execution_count": 161,
   "metadata": {},
   "outputs": [
    {
     "name": "stdout",
     "output_type": "stream",
     "text": [
      "There were 891 people in the sample.\n",
      "There were 342 survivors.\n",
      "There were 577 males.\n",
      "There were 109 male survivors.\n",
      "There were 314 females.\n",
      "There were 233 female survivors.\n"
     ]
    }
   ],
   "source": [
    "samplesize = len(titanic_df)\n",
    "\n",
    "if True: \n",
    "    def printing(**kwargs):\n",
    "        \"\"\"\n",
    "        This function prints the value upon calling the function. \n",
    "        \"\"\"\n",
    "        for name, value in kwargs.items():\n",
    "            print (\"There were {}\".format(value))\n",
    "\n",
    "    printing(sample_size = str(samplesize)+\" people in the sample.\", \n",
    "             survs = str(survivors_count)+ \" survivors.\",\n",
    "            male_num = str(male_count)+ \" males.\",\n",
    "             mal_surv = str(male_survivors_count)+ \" male survivors.\",\n",
    "            fem_num = str(female_count)+ \" females.\",\n",
    "             fem_surv = str(female_survivors_count)+ \" female survivors.\"\n",
    "            )"
   ]
  },
  {
   "cell_type": "markdown",
   "metadata": {},
   "source": [
    "   **2. Distribution of data by age:-**\n",
    "\n",
    "   Change ***False*** to ***True***, and run the following Python code to see stats related to age distribution: \n"
   ]
  },
  {
   "cell_type": "code",
   "execution_count": 162,
   "metadata": {},
   "outputs": [
    {
     "name": "stdout",
     "output_type": "stream",
     "text": [
      "There were 714 people, whose ages were specified.\n",
      "There were 601 adults.\n",
      "There were 113 children.\n",
      "There were 290 survivors, with ages specified.\n",
      "There were 229 adult survivors.\n",
      "There were 61 child survivors.\n",
      "The oldest survivor was 80.0 years old.\n",
      "The youngest survivor was 5.04 months old.\n"
     ]
    }
   ],
   "source": [
    "#the printing function is called to print stats related to age. \n",
    "\n",
    "if True: \n",
    "    printing(with_age_data_length = str(len(age_inclusive_df))+\" people, whose ages were specified.\", \n",
    "            adults = str(adult_count)+\" adults.\", \n",
    "            children = str(child_count)+\" children.\", \n",
    "            all_survs = str(adult_survivors_count+child_survivors_count)+\" survivors, with ages specified.\", \n",
    "             adult_surv = str(adult_survivors_count)+\" adult survivors.\", \n",
    "             child_surv = str(child_survivors_count)+ \" child survivors.\"\n",
    "            )\n",
    "    print (\"The oldest survivor was {} years old.\".format(oldest_survivor))\n",
    "    print (\"The youngest survivor was {} months old.\".format(youngest_survivor))"
   ]
  },
  {
   "cell_type": "markdown",
   "metadata": {},
   "source": [
    "   **3. Distribution of data by ticket class:** \n",
    "    \n",
    "   Change ***False*** to ***True***, and run the following Python code to see stats related to ticket class distribution:\n"
   ]
  },
  {
   "cell_type": "code",
   "execution_count": 163,
   "metadata": {},
   "outputs": [
    {
     "name": "stdout",
     "output_type": "stream",
     "text": [
      "There were 216 people in first class category.\n",
      "There were 136 survivors in that category.\n",
      "There were 184 people in second class category.\n",
      "There were 87 survivors in that category.\n",
      "There were 491 people in third class category.\n",
      "There were 119 survivors in that category.\n"
     ]
    }
   ],
   "source": [
    "#We are going to call the printing function to print stats related to ticket class. \n",
    "if True: \n",
    "    printing( first_class = str(first_class_count)+\" people in first class category.\", \n",
    "            first_class_survs = str(first_class_survivors)+\" survivors in that category.\", \n",
    "            second_class = str(second_class_count)+\" people in second class category.\", \n",
    "            second_class_survs = str(second_class_survivors)+\" survivors in that category.\", \n",
    "             third_class = str(third_class_count)+\" people in third class category.\", \n",
    "             third_class_survs = str(third_class_survivors)+ \" survivors in that category.\"\n",
    "            ) "
   ]
  },
  {
   "cell_type": "markdown",
   "metadata": {},
   "source": [
    "   **4. Distribution of data by family indicators: **\n",
    "    \n",
    "  Change ***False*** to ***True***, and run the following Python code to see stats related to gender distribution:\n"
   ]
  },
  {
   "cell_type": "code",
   "execution_count": 164,
   "metadata": {},
   "outputs": [
    {
     "name": "stdout",
     "output_type": "stream",
     "text": [
      "There were 537 people, traveling alone.\n",
      "There were 163 survivors in the lonely category.\n",
      "There were 354 people, traveling with family.\n",
      "There were 179 survivors in the family category.\n"
     ]
    }
   ],
   "source": [
    "#We are going to call the printing function to print stats related to family. \n",
    "if True: \n",
    "    printing(lonely_travelers = str(lonely_travelers_count)+\" people, traveling alone.\", \n",
    "            lonely_traveling_survs = str(lonely_traveling_survivors_count)+\" survivors in the lonely category.\", \n",
    "            family_travelers = str(family_travelers_count)+\" people, traveling with family.\", \n",
    "             family_traveling_survs = str(family_traveling_survivors_count)+\" survivors in the family category.\" \n",
    "            ) "
   ]
  },
  {
   "cell_type": "markdown",
   "metadata": {},
   "source": [
    "### Onto the fourth step:-"
   ]
  },
  {
   "cell_type": "markdown",
   "metadata": {},
   "source": [
    "## CONCLUSION"
   ]
  },
  {
   "cell_type": "markdown",
   "metadata": {},
   "source": [
    "### Findings:- \n",
    "\n",
    "I was able to find answers to the questions I raised. Following are my conclusions: \n",
    "\n",
    "1. About survival rate and gender, I found that persons identified as female had a higher survival rate in proportion to their representation in the sample.\n",
    "\n",
    "2. About survival and age, I found that persons aged less than 18 years had better survival rate in proportion to their representation in the sample. \n",
    "\n",
    "3. About survival and ticket class of passengers, I found that passengers who had bought a higher class ticket, had better survival rate compared to the two other classes. \n",
    "\n",
    "4. About survival and availability of traveling companion, I found that passengers who were traveling as part of family had better survival rate compared to others who traveled by themselves. \n",
    "\n",
    "All of the above findings are backed by data explored and visuals in the upcoming section. \n",
    "\n",
    "### Limitations:- \n",
    "* The limitations of the findings are the reasons provided in the dataset. For instance, after exploring the data, I\n",
    "  was able to find out that children and women had better survival rate compared to adults and males. The dataset does\n",
    "  not mention that children and women were given preference over adults and males. \n",
    "\n",
    "* Or the fact that people who were traveling as part of one family had better survival rate because they looked out\n",
    "  for each other so their survival was better compared to people who were traveling by themsleves. \n",
    "\n",
    "* And the dataset also lacks reason for the fact that higher ticket class had better survival because they must have\n",
    "  been given preference when it came to lifeboats (which is not mentioned in the dataset). But even being on the\n",
    "  lifeboats does not mean higher chances of survival. \n",
    "\n"
   ]
  },
  {
   "cell_type": "markdown",
   "metadata": {},
   "source": [
    "### Onto the fifth step:-"
   ]
  },
  {
   "cell_type": "markdown",
   "metadata": {},
   "source": [
    "## COMMUNICATION"
   ]
  },
  {
   "cell_type": "markdown",
   "metadata": {},
   "source": [
    "## **GENDER: Let us remind ourselves of the questions related to gender ** \n",
    "\n",
    "***What is the distribution of male and female data in the sample? Was there any correlation between gender and the survival rate? if so, which gender had more survival rate, why possibly? Were there any empty values fields?*** \n",
    "\n",
    "Well, first of all information was collected on 891 people, which is our sample size. Out of the sample size of 891 people, there were 577 people identified as male of which 19% or 109 survived, and 314 people identified as female, of which 74% or 233 survived.  \n",
    "\n",
    "So yes, there was a correlation between gender and survival rate as the people identified as female had a higher survival rate proportionate to their representation of the sample compared to people identified as male. \n",
    "\n",
    "Change ***False*** to ***True*** and run the following code to observe the visualization of the above. "
   ]
  },
  {
   "cell_type": "code",
   "execution_count": 165,
   "metadata": {},
   "outputs": [
    {
     "data": {
      "image/png": "[encoded data removed]",
      "text/plain": [
       "<matplotlib.figure.Figure at 0x1223b5160>"
      ]
     },
     "metadata": {},
     "output_type": "display_data"
    },
    {
     "data": {
      "image/png": "[encoded data removed]",
      "text/plain": [
       "<matplotlib.figure.Figure at 0x1204fa3c8>"
      ]
     },
     "metadata": {},
     "output_type": "display_data"
    }
   ],
   "source": [
    "#this is to print out the output in the same notebook. \n",
    "%matplotlib inline \n",
    "\n",
    "import numpy as np\n",
    "import matplotlib.pyplot as plt\n",
    "import matplotlib.patches as mpatches\n",
    "\n",
    "def barlabel(plots):\n",
    "        \"\"\"\n",
    "        This function attaches a text label above each bar displaying its height\n",
    "        \"\"\"\n",
    "        for plot in plots:\n",
    "            height = plot.get_height()\n",
    "            ax.text(plot.get_x() + plot.get_width()/2, height,\n",
    "                    '%d' % int(height),\n",
    "                    ha='center', va='bottom')\n",
    "\n",
    "if True: \n",
    "    \n",
    "    N = 3\n",
    "    x = np.arange(N)  \n",
    "    width = 0.35      \n",
    "\n",
    "    fig = plt.figure(figsize=(14,7)) \n",
    "    ax = fig.add_subplot(221)\n",
    "\n",
    "    mf_data1 = (len(titanic_df), male_count, female_count)\n",
    "    plot_mf1 = ax.bar(x,mf_data1, width, color='c')\n",
    "\n",
    "    mf_data2 = (survivors_count, male_survivors_count, female_survivors_count)\n",
    "    plot_mf2 = ax.bar(x+width, mf_data2, width, color='y')\n",
    "\n",
    "    ax.set_title('Titanic Overall Survival Numbers')\n",
    "    ax.set_ylabel('Number of people')\n",
    "    totals_leg = mpatches.Patch(color='c', label='Totals')\n",
    "    surv_leg = mpatches.Patch(color='y', label='survivors')\n",
    "    ax.legend(handles = [totals_leg, surv_leg])\n",
    "    ax.set_xticks(x+width/2)\n",
    "    ax.set_xticklabels(('sample size & survivors','males','females'))\n",
    "    \n",
    "    barlabel(plot_mf1)\n",
    "    barlabel(plot_mf2)    \n",
    "    \n",
    "    survivors_gender_table = pd.crosstab(titanic_df['Survived'], titanic_df['Sex'])\n",
    "    fig, (ax1, ax2) = plt.subplots(ncols=2)\n",
    "    colors = ['y','c']\n",
    "    for sex, ax in zip(['male', 'female'], [ax1, ax2]):\n",
    "        survivors_gender_table.plot.pie(y = sex, \n",
    "                                    ax=ax, \n",
    "                                    labels =['Dead', 'Survived'],\n",
    "                                    autopct='%1.2f%%', \n",
    "                                    colors=colors, \n",
    "                                    legend=False, \n",
    "                                    startangle=90)\n",
    "        ax.set_aspect('equal')\n",
    "    fig.suptitle('Survivors and Dead by Gender', y=0.8, fontsize = 12)"
   ]
  },
  {
   "cell_type": "markdown",
   "metadata": {},
   "source": [
    "**AGE: Let us take a look at the questions related to age.**\n",
    "\n",
    "***What is the distribution of data based on age? Was there any correlation between age and the chances of survival? Did any particular age group had better survival rate? How old were the oldest and youngest survivors?***\n",
    "\n",
    "There are two age categories, adults and children. People aged 18 or over are considered adults and those aged less than 18 are considered children. Out of the sample of 891 people, there were 177 people who had no age specifed so we excluded them while analyzing the data between adults and children. So we have a new sample for this analysis with 714 people in it. \n",
    "\n",
    "Out of 714 age_inclusive sample, there were 649 adults and 65 children. That is 90% adults and 10% children. The survival rate proportionate to their relevant groups was 39% for adults, that is 255 survivors out of 649 adults, and 54% for children, and that is 35 children survived out of 65 children. Hence, we can say that children had better survival rate when compared to adults. And this could be that children were given priority to board the lifeboats as they were the most vulnerable group. \n",
    "\n",
    "Change ***False*** to ***True*** and run the following code to get the visuals backing up the above. "
   ]
  },
  {
   "cell_type": "code",
   "execution_count": 166,
   "metadata": {},
   "outputs": [
    {
     "data": {
      "image/png": "[encoded data removed]",
      "text/plain": [
       "<matplotlib.figure.Figure at 0x11cd20e10>"
      ]
     },
     "metadata": {},
     "output_type": "display_data"
    }
   ],
   "source": [
    "if True:     \n",
    "    fig = plt.figure(figsize=(12,5)) #the figure along with the size of it.\n",
    "    ax = fig.add_subplot(121)\n",
    "    colors = ['b','c','y']\n",
    "    bar1 = ax.bar(range(3), [len(titanic_df),len(age_inclusive_df), ageless_count], color = colors)\n",
    "    ax.set(title = 'Overall Composition by Age', \n",
    "          ylabel = 'Number of people', \n",
    "          xticks = range(3),\n",
    "          xticklabels = ['Sample Size','With Ages','Without Ages']\n",
    "          )\n",
    "    barlabel(bar1)\n",
    "    \n",
    "    ax = fig.add_subplot(122)\n",
    "\n",
    "    ac_data1 = (len(age_inclusive_df), adult_count, child_count)\n",
    "    plot_ac1 = ax.bar(x,ac_data1, width, color='c')\n",
    "\n",
    "    ac_data2 = (adult_survivors_count+child_survivors_count, adult_survivors_count, child_survivors_count)\n",
    "    plot_ac2 = ax.bar(x+width, ac_data2, width, color='y')\n",
    "\n",
    "    ax.set_title('Detailed Composition by Age')\n",
    "    ax.set_ylabel('Number of people')\n",
    "    totals_leg = mpatches.Patch(color='c', label='Totals')\n",
    "    surv_leg = mpatches.Patch(color='y', label='survivors')\n",
    "    ax.legend(handles = [totals_leg, surv_leg])\n",
    "    ax.set_xticks(x+width/2)\n",
    "    ax.set_xticklabels(('sample size & survivors','adults','children'))\n",
    "\n",
    "\n",
    "    barlabel(plot_ac1)\n",
    "    barlabel(plot_ac2)"
   ]
  },
  {
   "cell_type": "markdown",
   "metadata": {},
   "source": [
    "**TICKET CLASS. Let us tackle the questions related to ticket class of the passengers.**\n",
    "\n",
    "***What are the proportions of passengers in each class and what are their survival rates? Was there any correlation between ticket class and survival? If so, which ticket classes had the best and worst survival rate?***\n",
    "\n",
    "*The 891 passengers were grouped into three ticket classes:* \n",
    "\n",
    "1. 216 first_class ticket holders (Pclass = '1')\n",
    "2. 184 second_class ticket holders (Pclass = '2')\n",
    "3. 491 third_class ticket holders (Pclass = '3')\n",
    "\n",
    "*Let us take a look at their survival rates:* \n",
    "\n",
    "1. 136/216 first_class survivors, 63% survival rate\n",
    "2. 87/184 second_class survivors, 47% survival rate\n",
    "3. 119/491 third_class survivors, 24% survival rate\n",
    "\n",
    "Looking at the above stats, we can clearly see that the first_class had the best survival rate, 62% and the third_class had the worst survival rate of 24%. The ticket class on the titanic represented socio-economic status with first_class being the highest in terms of that status. \n",
    "\n",
    "Thus, we can say that there was a correlation between a ticket class and the survival rate. The higher the ticket class, the better the socio-economic status of the passenger and the more likely the passenger survived. \n",
    "\n",
    "\n",
    "*Please change **False** to **True** in the following code and then run the code to observe representative visuals.*"
   ]
  },
  {
   "cell_type": "code",
   "execution_count": 167,
   "metadata": {},
   "outputs": [
    {
     "data": {
      "image/png": "[encoded data removed]",
      "text/plain": [
       "<matplotlib.figure.Figure at 0x11ccb91d0>"
      ]
     },
     "metadata": {},
     "output_type": "display_data"
    }
   ],
   "source": [
    "if True: \n",
    "    fig = plt.figure(figsize=(10, 7))\n",
    "    N = 4\n",
    "    x = np.arange(N)  \n",
    "    width = 0.35      \n",
    "\n",
    "    ax = fig.add_subplot(111)\n",
    "\n",
    "    tc_data1 = (len(titanic_df), first_class_count, second_class_count, third_class_count)\n",
    "    plot_tc1 = ax.bar(x,tc_data1, width, color='c')\n",
    "\n",
    "    tc_data2 = (survivors_count, first_class_survivors, second_class_survivors, third_class_survivors)\n",
    "    plot_tc2 = ax.bar(x+width, tc_data2, width, color='y')\n",
    "\n",
    "    ax.set_title('Titanic Numbers by Ticket Class')\n",
    "    ax.set_ylabel('Number of people')\n",
    "    totals_leg = mpatches.Patch(color='c', label='Totals')\n",
    "    surv_leg = mpatches.Patch(color='y', label='survivors')\n",
    "    ax.legend(handles = [totals_leg, surv_leg])\n",
    "    ax.set_xticks(x+width/2)\n",
    "    ax.set_xticklabels(('sample', 'First_class','Second_class', 'Third_class'))\n",
    "    \n",
    "    barlabel(plot_tc1)\n",
    "    barlabel(plot_tc2)"
   ]
  },
  {
   "cell_type": "markdown",
   "metadata": {},
   "source": [
    "**FAMILY Vs LONELY TRAVELERS Let us tackle questions related to whether people traveled with their families or not.**\n",
    "\n",
    "***Did more or fewer people travel with their families? What was the correlation between a passenger having a family member and the survival rate for such groups?***\n",
    "\n",
    "Out of 891 people, 537 people traveled by themselves, so they did not have any family onboard. And 354 people travelved either with their children, parents, spouses or siblings. \n",
    "\n",
    "It seems like the people who traveled with their families had a better survival rate compared people traveling by themselves. There were 179 survivors out of 354 travelers, which is 50% survival rate. On the other hand, 163 survivors out of 537 travelers, which is every third person or 30% survival rate. \n",
    "\n",
    "Thus, family traveling people were more likely to survive than non-family travelers. \n",
    "\n",
    "*Please change **False** to **True** in the following code and then run the code to observe representative visuals.*"
   ]
  },
  {
   "cell_type": "code",
   "execution_count": 168,
   "metadata": {},
   "outputs": [
    {
     "data": {
      "image/png": "[encoded data removed]",
      "text/plain": [
       "<matplotlib.figure.Figure at 0x11ccb9cc0>"
      ]
     },
     "metadata": {},
     "output_type": "display_data"
    }
   ],
   "source": [
    "if True: \n",
    "    fig = plt.figure(figsize=(14, 5))\n",
    "    N = 3\n",
    "    x = np.arange(N)  \n",
    "    width = 0.35      \n",
    "\n",
    "    ax = fig.add_subplot(121)\n",
    "\n",
    "    tc_data1 = (len(titanic_df), lonely_travelers_count, family_travelers_count)\n",
    "    plot_tc1 = ax.bar(x,tc_data1, width, color='c')\n",
    "\n",
    "    tc_data2 = (survivors_count, lonely_traveling_survivors_count, family_traveling_survivors_count)\n",
    "    plot_tc2 = ax.bar(x+width, tc_data2, width, color='y')\n",
    "\n",
    "    ax.set_title('Titanic Numbers by Family Association')\n",
    "    ax.set_ylabel('Number of people')\n",
    "    totals_leg = mpatches.Patch(color='c', label='Totals')\n",
    "    surv_leg = mpatches.Patch(color='y', label='survivors')\n",
    "    ax.legend(handles = [totals_leg, surv_leg])\n",
    "    ax.set_xticks(x+width/2)\n",
    "    ax.set_xticklabels(('sample', 'Lonely Travelers', 'Family Travelers'))\n",
    "    \n",
    "    barlabel(plot_tc1)\n",
    "    barlabel(plot_tc2)\n",
    "    \n",
    "    ax = fig.add_subplot(122)\n",
    "    slices = [lonely_traveling_survivors_count/survivors_count, family_traveling_survivors_count/survivors_count]\n",
    "    labels = ['Lonely Travelers', 'Family Travelers']\n",
    "    colors = ['#00bfff', 'c']\n",
    "    plt.title(' Survival Rate')\n",
    "    plt.pie(slices, \n",
    "            labels=labels, \n",
    "            colors=colors,\n",
    "            autopct='%1.2f%%', \n",
    "           startangle = 90, \n",
    "           shadow = True)\n",
    "    plt.axis('equal')\n",
    "    "
   ]
  },
  {
   "cell_type": "markdown",
   "metadata": {},
   "source": [
    "Sources: \n",
    "\n",
    "http://matplotlib.org\n",
    "\n",
    "http://kaggle.com\n",
    "\n",
    "http://stackoverflow.com/\n"
   ]
  }
 ],
 "metadata": {
  "kernelspec": {
   "display_name": "Python 3",
   "language": "python",
   "name": "python3"
  },
  "language_info": {
   "codemirror_mode": {
    "name": "ipython",
    "version": 3
   },
   "file_extension": ".py",
   "mimetype": "text/x-python",
   "name": "python",
   "nbconvert_exporter": "python",
   "pygments_lexer": "ipython3",
   "version": "3.5.4"
  }
 },
 "nbformat": 4,
 "nbformat_minor": 2
}
