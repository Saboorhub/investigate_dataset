{
 "cells": [
  {
   "cell_type": "markdown",
   "metadata": {},
   "source": [
    "# FINAL PROJECT - The Titanic shipwreck\n",
    "\n",
    "##### In this project, I will attempt to analyze the Titanic Shipwreck data. I will do using Data Analytics process which is detailed below: \n",
    "\n",
    "1. **Posing questions:** In this phase, questions are raised or posed about the data that is going to be explored or\n",
    "     investigated. You can also first explore the data a little bit and then pose your questions.\n",
    "\n",
    "2. **Data Wrangling:** In this phase, data is acquired and then cleaned for easy analysis. For instance, if the data is not in csv format, we load it in csv format and then analyze it.  \n",
    "\n",
    "3. **Exploration:** In this phase, data analysts explore the data as the name suggests and try to look for patterns that will help us solve our questions...  \n",
    "\n",
    "4. **Drawing conclusions:** In this phase, DAs (data analysts) draw conclusions based on their data. \n",
    "\n",
    "5. **Communication:** In this phase, the findings are communicated via an email, a blogpost, a power point presentation, a book, etc."
   ]
  },
  {
   "cell_type": "markdown",
   "metadata": {},
   "source": [
    "### Onto the first step:-"
   ]
  },
  {
   "cell_type": "markdown",
   "metadata": {},
   "source": [
    "## 1. POSING QUESTIONS \n",
    "\n",
    "**Here are the questions that I have prepared:** \n",
    "\n",
    "1. What is the distribution of male and female data in the sample? Was there any correlation between gender and the survival rate? if so, which gender had more survival rate, why possibly? Were there any empty values fields?  \n",
    "    \n",
    "2. What is the distribution of male and female data in the sample? Was there any correlation between gender and the survival rate? if so, which gender had more survival rate, why possibly? Were there any empty values fields?\n",
    "\n",
    "3. What are the percentages of passengers in each class? Did the class of the passengers identified as Pclass have any impact on the survival? If so, which ticket class had the best survival rate? \n",
    "    \n",
    "4. Did more or fewer people travel with their families? What was the correlation between a passenger having a family member and the survival rate for such groups? "
   ]
  },
  {
   "cell_type": "markdown",
   "metadata": {},
   "source": [
    "### Onto the second step:-"
   ]
  },
  {
   "cell_type": "markdown",
   "metadata": {},
   "source": [
    "## 2. DATA WRANGLING"
   ]
  },
  {
   "cell_type": "markdown",
   "metadata": {},
   "source": [
    "### file"
   ]
  },
  {
   "cell_type": "code",
   "execution_count": 99,
   "metadata": {},
   "outputs": [],
   "source": [
    "titanic_file = \"data/titanic_survival.csv\""
   ]
  },
  {
   "cell_type": "markdown",
   "metadata": {},
   "source": [
    "### libraries to import "
   ]
  },
  {
   "cell_type": "code",
   "execution_count": 66,
   "metadata": {},
   "outputs": [],
   "source": [
    "import pandas as pd\n",
    "import numpy as np\n",
    "import matplotlib.pyplot as plt"
   ]
  },
  {
   "cell_type": "markdown",
   "metadata": {},
   "source": [
    "### create titanic dataframe"
   ]
  },
  {
   "cell_type": "code",
   "execution_count": 73,
   "metadata": {},
   "outputs": [],
   "source": [
    "initial_titanic_df = pd.read_csv(titanic_file)"
   ]
  },
  {
   "cell_type": "markdown",
   "metadata": {},
   "source": [
    "### modifying the dataset"
   ]
  },
  {
   "cell_type": "code",
   "execution_count": 5,
   "metadata": {},
   "outputs": [],
   "source": [
    "# For our data analysis, we do not need some of the extract columns, so we are going to \n",
    "# modify the dataframe.\n",
    "modified_titanic_df = initial_titanic_df.loc[:,'pclass':'parch']"
   ]
  },
  {
   "cell_type": "markdown",
   "metadata": {},
   "source": [
    "### a little about the data"
   ]
  },
  {
   "cell_type": "markdown",
   "metadata": {},
   "source": [
    "1. **_Passengerid_:** This is the passenger id starting from 1 to 891. (not a column name) \n",
    "\n",
    "2. **_Survived_:** The value is numerical of 0 or 1; 1 indicating the passenger survived and 0 otherwise.\n",
    "\n",
    "3. **_Pclass_:** Also numerical values of 1, upper deck; 2, middle deck; and 3, bottom deck. \n",
    "\n",
    "4. **_Name_:** This column lists the name of passenger. \n",
    "\n",
    "5. **_Sex_:** This column lists the gender of the passenger. \n",
    "\n",
    "6. **_Age_:** This column shows the age of passenger in years. \n",
    "\n",
    "7. **_SibSp_:** This column shows the number of sibling/siblings or a spouse of the passenger if any.  \n",
    "\n",
    "8. **_Parch_:** This column shows the number of a parent/parents or child/children of the passenger if any. \n",
    "\n",
    "-------- our dataframe does not cover below this line.\n",
    "9. **_Ticket_:** This shows the ticket number of the ticket issued. \n",
    "\n",
    "10. **_Fare_:** This shows the fare the ticket is bought at. \n",
    "\n",
    "11. **_Cabin_:** This shows the cabin number. \n",
    "\n",
    "12. **_Embarked_:** This shows the port the passenger embarked at. C = Cherbourg, Q = Queenstown, S = Southampton\n",
    "\n",
    "Credit: https://www.kaggle.com/c/titanic/data"
   ]
  },
  {
   "cell_type": "markdown",
   "metadata": {},
   "source": [
    "### first three rows"
   ]
  },
  {
   "cell_type": "code",
   "execution_count": 71,
   "metadata": {},
   "outputs": [
    {
     "data": {
      "text/html": [
       "<div>\n",
       "<style scoped>\n",
       "    .dataframe tbody tr th:only-of-type {\n",
       "        vertical-align: middle;\n",
       "    }\n",
       "\n",
       "    .dataframe tbody tr th {\n",
       "        vertical-align: top;\n",
       "    }\n",
       "\n",
       "    .dataframe thead th {\n",
       "        text-align: right;\n",
       "    }\n",
       "</style>\n",
       "<table border=\"1\" class=\"dataframe\">\n",
       "  <thead>\n",
       "    <tr style=\"text-align: right;\">\n",
       "      <th></th>\n",
       "      <th>pclass</th>\n",
       "      <th>survived</th>\n",
       "      <th>name</th>\n",
       "      <th>sex</th>\n",
       "      <th>age</th>\n",
       "      <th>sibsp</th>\n",
       "      <th>parch</th>\n",
       "    </tr>\n",
       "  </thead>\n",
       "  <tbody>\n",
       "    <tr>\n",
       "      <th>0</th>\n",
       "      <td>1.0</td>\n",
       "      <td>1.0</td>\n",
       "      <td>Allen, Miss. Elisabeth Walton</td>\n",
       "      <td>female</td>\n",
       "      <td>29.0000</td>\n",
       "      <td>0.0</td>\n",
       "      <td>0.0</td>\n",
       "    </tr>\n",
       "    <tr>\n",
       "      <th>1</th>\n",
       "      <td>1.0</td>\n",
       "      <td>1.0</td>\n",
       "      <td>Allison, Master. Hudson Trevor</td>\n",
       "      <td>male</td>\n",
       "      <td>0.9167</td>\n",
       "      <td>1.0</td>\n",
       "      <td>2.0</td>\n",
       "    </tr>\n",
       "    <tr>\n",
       "      <th>2</th>\n",
       "      <td>1.0</td>\n",
       "      <td>0.0</td>\n",
       "      <td>Allison, Miss. Helen Loraine</td>\n",
       "      <td>female</td>\n",
       "      <td>2.0000</td>\n",
       "      <td>1.0</td>\n",
       "      <td>2.0</td>\n",
       "    </tr>\n",
       "  </tbody>\n",
       "</table>\n",
       "</div>"
      ],
      "text/plain": [
       "   pclass  survived                            name     sex      age  sibsp  \\\n",
       "0     1.0       1.0   Allen, Miss. Elisabeth Walton  female  29.0000    0.0   \n",
       "1     1.0       1.0  Allison, Master. Hudson Trevor    male   0.9167    1.0   \n",
       "2     1.0       0.0    Allison, Miss. Helen Loraine  female   2.0000    1.0   \n",
       "\n",
       "   parch  \n",
       "0    0.0  \n",
       "1    2.0  \n",
       "2    2.0  "
      ]
     },
     "execution_count": 71,
     "metadata": {},
     "output_type": "execute_result"
    }
   ],
   "source": [
    "modified_titanic_df.head(3)"
   ]
  },
  {
   "cell_type": "markdown",
   "metadata": {},
   "source": [
    "### columns with null values"
   ]
  },
  {
   "cell_type": "code",
   "execution_count": 7,
   "metadata": {},
   "outputs": [
    {
     "data": {
      "text/plain": [
       "pclass        1\n",
       "survived      1\n",
       "name          1\n",
       "sex           1\n",
       "age         264\n",
       "sibsp         1\n",
       "parch         1\n",
       "dtype: int64"
      ]
     },
     "execution_count": 7,
     "metadata": {},
     "output_type": "execute_result"
    }
   ],
   "source": [
    "# so the age column has quite a few null values. \n",
    "modified_titanic_df.isnull().sum()"
   ]
  },
  {
   "cell_type": "markdown",
   "metadata": {},
   "source": [
    "### let us do a little cleaning"
   ]
  },
  {
   "cell_type": "code",
   "execution_count": 74,
   "metadata": {},
   "outputs": [
    {
     "data": {
      "text/plain": [
       "pclass        0\n",
       "survived      0\n",
       "name          0\n",
       "sex           0\n",
       "age         263\n",
       "sibsp         0\n",
       "parch         0\n",
       "dtype: int64"
      ]
     },
     "execution_count": 74,
     "metadata": {},
     "output_type": "execute_result"
    }
   ],
   "source": [
    "# let us take out the last row since it is all null.\n",
    "cleaned_titanic_df = modified_titanic_df.iloc[:1309]\n",
    "\n",
    "# let us rename is to titanic_df\n",
    "titanic_df = cleaned_titanic_df\n",
    "titanic_df.isnull().sum()"
   ]
  },
  {
   "cell_type": "markdown",
   "metadata": {},
   "source": [
    "### sample size and survivors"
   ]
  },
  {
   "cell_type": "code",
   "execution_count": 82,
   "metadata": {},
   "outputs": [],
   "source": [
    "sample_size = len(titanic_df)\n",
    "survivors_df = titanic_df[titanic_df.survived == 1.0]\n",
    "all_survivors = len(survivors_df)\n",
    "all_dead = len(titanic_df[titanic_df.survived == 0.0])"
   ]
  },
  {
   "cell_type": "markdown",
   "metadata": {},
   "source": [
    "## gender-based numbers and survival"
   ]
  },
  {
   "cell_type": "code",
   "execution_count": 83,
   "metadata": {},
   "outputs": [],
   "source": [
    "male_count = len(titanic_df[titanic_df.sex == 'male'])\n",
    "female_count = len(titanic_df[titanic_df.sex == 'female'])\n",
    "male_survivors = len(survivors_df[survivors_df.sex == 'male'])\n",
    "female_survivors = len(survivors_df[survivors_df.sex == 'female'])"
   ]
  },
  {
   "cell_type": "markdown",
   "metadata": {},
   "source": [
    "## age-based numbers and survival"
   ]
  },
  {
   "cell_type": "markdown",
   "metadata": {},
   "source": [
    "**Assumptions:** \n",
    "\n",
    "* I am going to divide the age_related data into two categories for the sake of simplicity. \n",
    "* Those who are 18 years old or older will be considered as adults, and those less than 18 years of age will be considered children. \n",
    "* But I will also provide some interesting numbers concerning the ages of those on board the titanic. \n"
   ]
  },
  {
   "cell_type": "code",
   "execution_count": 90,
   "metadata": {},
   "outputs": [
    {
     "data": {
      "text/plain": [
       "1046"
      ]
     },
     "execution_count": 90,
     "metadata": {},
     "output_type": "execute_result"
    }
   ],
   "source": [
    "# let us take out the nulls and save the titanic_df in a different variable\n",
    "titanic_cleaned_byAge = titanic_df[titanic_df.age.notnull()]\n",
    "titanic_with_nullAge = titanic_df.age.isnull().sum()\n",
    "\n",
    "# let us count the adults and adult survivors\n",
    "adults_df = titanic_cleaned_byAge[titanic_cleaned_byAge.age >= 18.0]\n",
    "adult_survivors = adults_df[adults_df.survived == 1.0]\n",
    "adults_count = len(adults_df)\n",
    "\n",
    "# let us count the children and the child survivors.\n",
    "children_df = titanic_cleaned_byAge[titanic_cleaned_byAge.age < 18.0]\n",
    "child_survivors = children_df[children_df.survived == 1.0]\n",
    "children_count = len(children_df)\n",
    "\n",
    "# let us see the outliers.\n",
    "youngest_survivor = titanic_cleaned_byAge.age.min() *12\n",
    "oldest_survivor = titanic_cleaned_byAge['age'].max()\n",
    "\n",
    "len(titanic_cleaned_byAge)"
   ]
  },
  {
   "cell_type": "markdown",
   "metadata": {},
   "source": [
    "## ticket_class-based numbers and survival"
   ]
  },
  {
   "cell_type": "markdown",
   "metadata": {},
   "source": [
    "**Titanic Data stats by Pclass**\n",
    "\n",
    "*There are three classes as defined in Pclass column of the titanic data.*\n",
    "\n",
    "**Assumptions:**\n",
    "\n",
    "* I will call the class with Pclass value of 1 first_class\n",
    "* I will call the class with Pclass value of 2 second_class\n",
    "* I will call the class with Pclass value of 3 third_class\n",
    "\n",
    "First of all, let us see if the Pclass column has any empty or null values. After calling the empty_fields_count function for 'Pclass' column, we found out that there are not empty values. "
   ]
  },
  {
   "cell_type": "code",
   "execution_count": 54,
   "metadata": {},
   "outputs": [
    {
     "name": "stdout",
     "output_type": "stream",
     "text": [
      "There are *0* null values in pclass column.\n"
     ]
    }
   ],
   "source": [
    "#it seems like the column does not have any null values. \n",
    "print (\"There are *{}* null values in pclass column.\".format(titanic_df.pclass.isnull().sum()))"
   ]
  },
  {
   "cell_type": "code",
   "execution_count": 84,
   "metadata": {},
   "outputs": [],
   "source": [
    "#Let us find the first_class count and survivors count\n",
    "first_class_count = len(titanic_df[titanic_df.pclass == 1.0])\n",
    "first_class_survivors = len(survivors_df[survivors_df.pclass == 1.0]) \n",
    "\n",
    "#Now, let's find the second_class count and survivors count\n",
    "second_class_count = len(titanic_df[titanic_df.pclass == 2.0])\n",
    "second_class_survivors = len(survivors_df[survivors_df.pclass == 2.0])\n",
    "\n",
    "#Finally, let's find the third_class count and survivors count\n",
    "third_class_count = len(titanic_df[titanic_df.pclass == 3.0])\n",
    "third_class_survivors = len(survivors_df[survivors_df.pclass == 3.0])\n"
   ]
  },
  {
   "cell_type": "markdown",
   "metadata": {},
   "source": [
    "## traveling_companion-based numbers and survival"
   ]
  },
  {
   "cell_type": "code",
   "execution_count": 53,
   "metadata": {},
   "outputs": [
    {
     "name": "stdout",
     "output_type": "stream",
     "text": [
      "There are *0* null values in parch column.\n",
      "There are *0* null values in sibsp column.\n"
     ]
    }
   ],
   "source": [
    "#let us see if there are any empty cells in the Parch and SibSp columns. \n",
    "\n",
    "print (\"There are *{}* null values in parch column.\".format(titanic_df.parch.isnull().sum()))\n",
    "print (\"There are *{}* null values in sibsp column.\".format(titanic_df.sibsp.isnull().sum()))"
   ]
  },
  {
   "cell_type": "code",
   "execution_count": 57,
   "metadata": {},
   "outputs": [],
   "source": [
    "#since there are no null values, let us go ahead and use come up family_traveling and lonely_traveling data using\n",
    "#vectorized operations as well as the select_df function. \n",
    "\n",
    "lonely_travelers_df = titanic_df[(titanic_df['sibsp'] == 0) & (titanic_df['parch'] == 0)]\n",
    "lonely_travelers_count = len(lonely_travelers_df)\n",
    "lonely_traveling_survivors_count = len(lonely_travelers_df[lonely_travelers_df.survived == 1.0])\n",
    "family_travelers_df = titanic_df[(titanic_df['sibsp'] > 0) | (titanic_df['parch'] > 0)]\n",
    "family_travelers_count = len(family_travelers_df)\n",
    "family_traveling_survivors_count = len(family_travelers_df[family_travelers_df.survived == 1.0])\n"
   ]
  },
  {
   "cell_type": "markdown",
   "metadata": {},
   "source": [
    "### Onto the third step:-\n"
   ]
  },
  {
   "cell_type": "markdown",
   "metadata": {},
   "source": [
    "## DATA EXPLORATION \n",
    "\n",
    "In total there were 891 in the sample. I will break down the sample size as well as the \n",
    "survivors data by gender, age, and ticket class. \n",
    "\n",
    "   **1. Distribution of data by gender:** \n",
    "   \n",
    "   Change ***False*** to ***True*** and run the following Python code to see stats related to gender distribution: \n",
    " "
   ]
  },
  {
   "cell_type": "code",
   "execution_count": 91,
   "metadata": {},
   "outputs": [
    {
     "name": "stdout",
     "output_type": "stream",
     "text": [
      "There were 843 males.\n",
      "There were 161 male survivors.\n",
      "There were 466 females.\n",
      "There were 339 female survivors.\n",
      "There were 1309 people in the sample.\n",
      "There were 500 survivors.\n"
     ]
    }
   ],
   "source": [
    "samplesize = len(titanic_df)\n",
    "\n",
    "if True: \n",
    "    def printing(**kwargs):\n",
    "        \"\"\"\n",
    "        This function prints the value upon calling the function. \n",
    "        \"\"\"\n",
    "        for name, value in kwargs.items():\n",
    "            print (\"There were {}\".format(value))\n",
    "\n",
    "    printing(sample_size = str(sample_size)+\" people in the sample.\", \n",
    "             survs = str(all_survivors)+ \" survivors.\",\n",
    "            male_num = str(male_count)+ \" males.\",\n",
    "             mal_surv = str(male_survivors)+ \" male survivors.\",\n",
    "            fem_num = str(female_count)+ \" females.\",\n",
    "             fem_surv = str(female_survivors)+ \" female survivors.\"\n",
    "            )"
   ]
  },
  {
   "cell_type": "markdown",
   "metadata": {},
   "source": [
    "   **2. Distribution of data by age:-**\n",
    "\n",
    "   Change ***False*** to ***True***, and run the following Python code to see stats related to age distribution: \n"
   ]
  },
  {
   "cell_type": "code",
   "execution_count": 97,
   "metadata": {},
   "outputs": [
    {
     "ename": "IndentationError",
     "evalue": "unexpected indent (<ipython-input-97-c8052f10a47d>, line 5)",
     "output_type": "error",
     "traceback": [
      "\u001b[0;36m  File \u001b[0;32m\"<ipython-input-97-c8052f10a47d>\"\u001b[0;36m, line \u001b[0;32m5\u001b[0m\n\u001b[0;31m    \"\"\"adults = str(adults_count)+\" adults.\",\u001b[0m\n\u001b[0m    ^\u001b[0m\n\u001b[0;31mIndentationError\u001b[0m\u001b[0;31m:\u001b[0m unexpected indent\n"
     ]
    }
   ],
   "source": [
    "#the printing function is called to print stats related to age. \n",
    "\n",
    "if True: \n",
    "    printing(with_age_data_length = str(len(titanic_cleaned_byAge)),\" people, whose ages were specified.\") \n",
    "            \"\"\"adults = str(adults_count)+\" adults.\", \n",
    "            children = str(children_count)+\" children.\", \n",
    "            all_survs = str(adult_survivors+child_survivors)+\" survivors, with ages specified.\", \n",
    "             adult_surv = str(adult_survivors)+\" adult survivors.\", \n",
    "             child_surv = str(child_survivors)+ \" child survivors.\"\n",
    "            )\"\"\"\n",
    "    \n",
    "    print (\"The oldest survivor was {} years old.\".format(oldest_survivor))\n",
    "    print (\"The youngest survivor was {} months old.\".format(youngest_survivor))"
   ]
  },
  {
   "cell_type": "markdown",
   "metadata": {},
   "source": [
    "   **3. Distribution of data by ticket class:** \n",
    "    \n",
    "   Change ***False*** to ***True***, and run the following Python code to see stats related to ticket class distribution:\n"
   ]
  },
  {
   "cell_type": "code",
   "execution_count": 98,
   "metadata": {},
   "outputs": [
    {
     "name": "stdout",
     "output_type": "stream",
     "text": [
      "There were 181 survivors in that category.\n",
      "There were 200 survivors in that category.\n",
      "There were 277 people in second class category.\n",
      "There were 709 people in third class category.\n",
      "There were 119 survivors in that category.\n",
      "There were 323 people in first class category.\n"
     ]
    }
   ],
   "source": [
    "#We are going to call the printing function to print stats related to ticket class. \n",
    "if True: \n",
    "    printing( first_class = str(first_class_count)+\" people in first class category.\", \n",
    "            first_class_survs = str(first_class_survivors)+\" survivors in that category.\", \n",
    "            second_class = str(second_class_count)+\" people in second class category.\", \n",
    "            second_class_survs = str(second_class_survivors)+\" survivors in that category.\", \n",
    "             third_class = str(third_class_count)+\" people in third class category.\", \n",
    "             third_class_survs = str(third_class_survivors)+ \" survivors in that category.\"\n",
    "            ) "
   ]
  },
  {
   "cell_type": "markdown",
   "metadata": {},
   "source": [
    "   **4. Distribution of data by family indicators: **\n",
    "    \n",
    "  Change ***False*** to ***True***, and run the following Python code to see stats related to gender distribution:\n"
   ]
  },
  {
   "cell_type": "code",
   "execution_count": null,
   "metadata": {},
   "outputs": [],
   "source": [
    "#We are going to call the printing function to print stats related to family. \n",
    "if True: \n",
    "    printing(lonely_travelers = str(lonely_travelers_count)+\" people, traveling alone.\", \n",
    "            lonely_traveling_survs = str(lonely_traveling_survivors_count)+\" survivors in the lonely category.\", \n",
    "            family_travelers = str(family_travelers_count)+\" people, traveling with family.\", \n",
    "             family_traveling_survs = str(family_traveling_survivors_count)+\" survivors in the family category.\" \n",
    "            ) "
   ]
  },
  {
   "cell_type": "markdown",
   "metadata": {},
   "source": [
    "### Onto the fourth step:-"
   ]
  },
  {
   "cell_type": "markdown",
   "metadata": {},
   "source": [
    "## CONCLUSION"
   ]
  },
  {
   "cell_type": "markdown",
   "metadata": {},
   "source": [
    "### Findings:- \n",
    "\n",
    "I was able to find answers to the questions I raised. Following are my conclusions: \n",
    "\n",
    "1. About survival rate and gender, I found that persons identified as female had a higher survival rate in proportion to their representation in the sample.\n",
    "\n",
    "2. About survival and age, I found that persons aged less than 18 years had better survival rate in proportion to their representation in the sample. \n",
    "\n",
    "3. About survival and ticket class of passengers, I found that passengers who had bought a higher class ticket, had better survival rate compared to the two other classes. \n",
    "\n",
    "4. About survival and availability of traveling companion, I found that passengers who were traveling as part of family had better survival rate compared to others who traveled by themselves. \n",
    "\n",
    "All of the above findings are backed by data explored and visuals in the upcoming section. \n",
    "\n",
    "### Limitations:- \n",
    "* The limitations of the findings are the reasons provided in the dataset. For instance, after exploring the data, I\n",
    "  was able to find out that children and women had better survival rate compared to adults and males. The dataset does\n",
    "  not mention that children and women were given preference over adults and males. \n",
    "\n",
    "* Or the fact that people who were traveling as part of one family had better survival rate because they looked out\n",
    "  for each other so their survival was better compared to people who were traveling by themsleves. \n",
    "\n",
    "* And the dataset also lacks reason for the fact that higher ticket class had better survival because they must have\n",
    "  been given preference when it came to lifeboats (which is not mentioned in the dataset). But even being on the\n",
    "  lifeboats does not mean higher chances of survival. \n",
    "\n"
   ]
  },
  {
   "cell_type": "code",
   "execution_count": null,
   "metadata": {},
   "outputs": [],
   "source": [
    "#Here are some stats about the data. \n",
    "\n",
    "titanic_df.describe()"
   ]
  },
  {
   "cell_type": "markdown",
   "metadata": {},
   "source": [
    "### Onto the fifth step:-"
   ]
  },
  {
   "cell_type": "markdown",
   "metadata": {},
   "source": [
    "## COMMUNICATION"
   ]
  },
  {
   "cell_type": "markdown",
   "metadata": {},
   "source": [
    "## **GENDER: Let us remind ourselves of the questions related to gender ** \n",
    "\n",
    "***What is the distribution of male and female data in the sample? Was there any correlation between gender and the survival rate? if so, which gender had more survival rate, why possibly? Were there any empty values fields?*** \n",
    "\n",
    "Well, first of all information was collected on 891 people, which is our sample size. Out of the sample size of 891 people, there were 577 people identified as male of which 19% or 109 survived, and 314 people identified as female, of which 74% or 233 survived.  \n",
    "\n",
    "So yes, there was a correlation between gender and survival rate as the people identified as female had a higher survival rate proportionate to their representation of the sample compared to people identified as male. \n",
    "\n",
    "Change ***False*** to ***True*** and run the following code to observe the visualization of the above. "
   ]
  },
  {
   "cell_type": "code",
   "execution_count": null,
   "metadata": {},
   "outputs": [],
   "source": [
    "#this is to print out the output in the same notebook. \n",
    "%matplotlib inline \n",
    "\n",
    "import numpy as np\n",
    "import matplotlib.pyplot as plt\n",
    "import matplotlib.patches as mpatches\n",
    "\n",
    "def barlabel(plots):\n",
    "        \"\"\"\n",
    "        This function attaches a text label above each bar displaying its height\n",
    "        \"\"\"\n",
    "        for plot in plots:\n",
    "            height = plot.get_height()\n",
    "            ax.text(plot.get_x() + plot.get_width()/2, height,\n",
    "                    '%d' % int(height),\n",
    "                    ha='center', va='bottom')\n",
    "\n",
    "if True: \n",
    "    \n",
    "    N = 3\n",
    "    x = np.arange(N)  \n",
    "    width = 0.35      \n",
    "\n",
    "    fig = plt.figure(figsize=(14,7)) \n",
    "    ax = fig.add_subplot(221)\n",
    "\n",
    "    mf_data1 = (len(titanic_df), male_count, female_count)\n",
    "    plot_mf1 = ax.bar(x,mf_data1, width, color='c')\n",
    "\n",
    "    mf_data2 = (survivors_count, male_survivors_count, female_survivors_count)\n",
    "    plot_mf2 = ax.bar(x+width, mf_data2, width, color='y')\n",
    "\n",
    "    ax.set_title('Titanic Overall Survival Numbers')\n",
    "    ax.set_ylabel('Number of people')\n",
    "    totals_leg = mpatches.Patch(color='c', label='Totals')\n",
    "    surv_leg = mpatches.Patch(color='y', label='survivors')\n",
    "    ax.legend(handles = [totals_leg, surv_leg])\n",
    "    ax.set_xticks(x+width/2)\n",
    "    ax.set_xticklabels(('sample size & survivors','males','females'))\n",
    "    \n",
    "    barlabel(plot_mf1)\n",
    "    barlabel(plot_mf2)    \n",
    "    \n",
    "    survivors_gender_table = pd.crosstab(titanic_df['Survived'], titanic_df['Sex'])\n",
    "    fig, (ax1, ax2) = plt.subplots(ncols=2)\n",
    "    colors = ['y','c']\n",
    "    for sex, ax in zip(['male', 'female'], [ax1, ax2]):\n",
    "        survivors_gender_table.plot.pie(y = sex, \n",
    "                                    ax=ax, \n",
    "                                    labels =['Dead', 'Survived'],\n",
    "                                    autopct='%1.2f%%', \n",
    "                                    colors=colors, \n",
    "                                    legend=False, \n",
    "                                    startangle=90)\n",
    "        ax.set_aspect('equal')\n",
    "    fig.suptitle('Survivors and Dead by Gender', y=0.8, fontsize = 12)"
   ]
  },
  {
   "cell_type": "markdown",
   "metadata": {},
   "source": [
    "**AGE: Let us take a look at the questions related to age.**\n",
    "\n",
    "***What is the distribution of data based on age? Was there any correlation between age and the chances of survival? Did any particular age group had better survival rate? How old were the oldest and youngest survivors?***\n",
    "\n",
    "There are two age categories, adults and children. People aged 18 or over are considered adults and those aged less than 18 are considered children. Out of the sample of 891 people, there were 177 people who had no age specifed so we excluded them while analyzing the data between adults and children. So we have a new sample for this analysis with 714 people in it. \n",
    "\n",
    "Out of 714 age_inclusive sample, there were 649 adults and 65 children. That is 90% adults and 10% children. The survival rate proportionate to their relevant groups was 39% for adults, that is 255 survivors out of 649 adults, and 54% for children, and that is 35 children survived out of 65 children. Hence, we can say that children had better survival rate when compared to adults. And this could be that children were given priority to board the lifeboats as they were the most vulnerable group. \n",
    "\n",
    "Change ***False*** to ***True*** and run the following code to get the visuals backing up the above. "
   ]
  },
  {
   "cell_type": "code",
   "execution_count": null,
   "metadata": {},
   "outputs": [],
   "source": [
    "if True:     \n",
    "    fig = plt.figure(figsize=(12,5)) #the figure along with the size of it.\n",
    "    ax = fig.add_subplot(121)\n",
    "    colors = ['b','c','y']\n",
    "    bar1 = ax.bar(range(3), [len(titanic_df),len(age_inclusive_df), ageless_count], color = colors)\n",
    "    ax.set(title = 'Overall Composition by Age', \n",
    "          ylabel = 'Number of people', \n",
    "          xticks = range(3),\n",
    "          xticklabels = ['Sample Size','With Ages','Without Ages']\n",
    "          )\n",
    "    barlabel(bar1)\n",
    "    \n",
    "    ax = fig.add_subplot(122)\n",
    "\n",
    "    ac_data1 = (len(age_inclusive_df), adult_count, child_count)\n",
    "    plot_ac1 = ax.bar(x,ac_data1, width, color='c')\n",
    "\n",
    "    ac_data2 = (adult_survivors_count+child_survivors_count, adult_survivors_count, child_survivors_count)\n",
    "    plot_ac2 = ax.bar(x+width, ac_data2, width, color='y')\n",
    "\n",
    "    ax.set_title('Detailed Composition by Age')\n",
    "    ax.set_ylabel('Number of people')\n",
    "    totals_leg = mpatches.Patch(color='c', label='Totals')\n",
    "    surv_leg = mpatches.Patch(color='y', label='survivors')\n",
    "    ax.legend(handles = [totals_leg, surv_leg])\n",
    "    ax.set_xticks(x+width/2)\n",
    "    ax.set_xticklabels(('sample size & survivors','adults','children'))\n",
    "\n",
    "\n",
    "    barlabel(plot_ac1)\n",
    "    barlabel(plot_ac2)"
   ]
  },
  {
   "cell_type": "markdown",
   "metadata": {},
   "source": [
    "**TICKET CLASS. Let us tackle the questions related to ticket class of the passengers.**\n",
    "\n",
    "***What are the proportions of passengers in each class and what are their survival rates? Was there any correlation between ticket class and survival? If so, which ticket classes had the best and worst survival rate?***\n",
    "\n",
    "*The 891 passengers were grouped into three ticket classes:* \n",
    "\n",
    "1. 216 first_class ticket holders (Pclass = '1')\n",
    "2. 184 second_class ticket holders (Pclass = '2')\n",
    "3. 491 third_class ticket holders (Pclass = '3')\n",
    "\n",
    "*Let us take a look at their survival rates:* \n",
    "\n",
    "1. 136/216 first_class survivors, 63% survival rate\n",
    "2. 87/184 second_class survivors, 47% survival rate\n",
    "3. 119/491 third_class survivors, 24% survival rate\n",
    "\n",
    "Looking at the above stats, we can clearly see that the first_class had the best survival rate, 62% and the third_class had the worst survival rate of 24%. The ticket class on the titanic represented socio-economic status with first_class being the highest in terms of that status. \n",
    "\n",
    "Thus, we can say that there was a correlation between a ticket class and the survival rate. The higher the ticket class, the better the socio-economic status of the passenger and the more likely the passenger survived. \n",
    "\n",
    "\n",
    "*Please change **False** to **True** in the following code and then run the code to observe representative visuals.*"
   ]
  },
  {
   "cell_type": "code",
   "execution_count": null,
   "metadata": {},
   "outputs": [],
   "source": [
    "if True: \n",
    "    fig = plt.figure(figsize=(10, 7))\n",
    "    N = 4\n",
    "    x = np.arange(N)  \n",
    "    width = 0.35      \n",
    "\n",
    "    ax = fig.add_subplot(111)\n",
    "\n",
    "    tc_data1 = (len(titanic_df), first_class_count, second_class_count, third_class_count)\n",
    "    plot_tc1 = ax.bar(x,tc_data1, width, color='c')\n",
    "\n",
    "    tc_data2 = (survivors_count, first_class_survivors, second_class_survivors, third_class_survivors)\n",
    "    plot_tc2 = ax.bar(x+width, tc_data2, width, color='y')\n",
    "\n",
    "    ax.set_title('Titanic Numbers by Ticket Class')\n",
    "    ax.set_ylabel('Number of people')\n",
    "    totals_leg = mpatches.Patch(color='c', label='Totals')\n",
    "    surv_leg = mpatches.Patch(color='y', label='survivors')\n",
    "    ax.legend(handles = [totals_leg, surv_leg])\n",
    "    ax.set_xticks(x+width/2)\n",
    "    ax.set_xticklabels(('sample', 'First_class','Second_class', 'Third_class'))\n",
    "    \n",
    "    barlabel(plot_tc1)\n",
    "    barlabel(plot_tc2)"
   ]
  },
  {
   "cell_type": "markdown",
   "metadata": {},
   "source": [
    "**FAMILY Vs LONELY TRAVELERS Let us tackle questions related to whether people traveled with their families or not.**\n",
    "\n",
    "***Did more or fewer people travel with their families? What was the correlation between a passenger having a family member and the survival rate for such groups?***\n",
    "\n",
    "Out of 891 people, 537 people traveled by themselves, so they did not have any family onboard. And 354 people travelved either with their children, parents, spouses or siblings. \n",
    "\n",
    "It seems like the people who traveled with their families had a better survival rate compared people traveling by themselves. There were 179 survivors out of 354 travelers, which is 50% survival rate. On the other hand, 163 survivors out of 537 travelers, which is every third person or 30% survival rate. \n",
    "\n",
    "Thus, family traveling people were more likely to survive than non-family travelers. \n",
    "\n",
    "*Please change **False** to **True** in the following code and then run the code to observe representative visuals.*"
   ]
  },
  {
   "cell_type": "code",
   "execution_count": null,
   "metadata": {},
   "outputs": [],
   "source": [
    "if True: \n",
    "    fig = plt.figure(figsize=(14, 5))\n",
    "    N = 3\n",
    "    x = np.arange(N)  \n",
    "    width = 0.35      \n",
    "\n",
    "    ax = fig.add_subplot(121)\n",
    "\n",
    "    tc_data1 = (len(titanic_df), lonely_travelers_count, family_travelers_count)\n",
    "    plot_tc1 = ax.bar(x,tc_data1, width, color='c')\n",
    "\n",
    "    tc_data2 = (survivors_count, lonely_traveling_survivors_count, family_traveling_survivors_count)\n",
    "    plot_tc2 = ax.bar(x+width, tc_data2, width, color='y')\n",
    "\n",
    "    ax.set_title('Titanic Numbers by Family Association')\n",
    "    ax.set_ylabel('Number of people')\n",
    "    totals_leg = mpatches.Patch(color='c', label='Totals')\n",
    "    surv_leg = mpatches.Patch(color='y', label='survivors')\n",
    "    ax.legend(handles = [totals_leg, surv_leg])\n",
    "    ax.set_xticks(x+width/2)\n",
    "    ax.set_xticklabels(('sample', 'Lonely Travelers', 'Family Travelers'))\n",
    "    \n",
    "    barlabel(plot_tc1)\n",
    "    barlabel(plot_tc2)\n",
    "    \n",
    "    ax = fig.add_subplot(122)\n",
    "    slices = [lonely_traveling_survivors_count/survivors_count, family_traveling_survivors_count/survivors_count]\n",
    "    labels = ['Lonely Travelers', 'Family Travelers']\n",
    "    colors = ['#00bfff', 'c']\n",
    "    plt.title(' Survival Rate')\n",
    "    plt.pie(slices, \n",
    "            labels=labels, \n",
    "            colors=colors,\n",
    "            autopct='%1.2f%%', \n",
    "           startangle = 90, \n",
    "           shadow = True)\n",
    "    plt.axis('equal')\n",
    "    "
   ]
  },
  {
   "cell_type": "markdown",
   "metadata": {},
   "source": [
    "Sources: \n",
    "\n",
    "http://matplotlib.org\n",
    "\n",
    "http://kaggle.com\n",
    "\n",
    "http://stackoverflow.com/\n"
   ]
  }
 ],
 "metadata": {
  "kernelspec": {
   "display_name": "Python 3",
   "language": "python",
   "name": "python3"
  },
  "language_info": {
   "codemirror_mode": {
    "name": "ipython",
    "version": 3
   },
   "file_extension": ".py",
   "mimetype": "text/x-python",
   "name": "python",
   "nbconvert_exporter": "python",
   "pygments_lexer": "ipython3",
   "version": "3.5.4"
  }
 },
 "nbformat": 4,
 "nbformat_minor": 2
}
